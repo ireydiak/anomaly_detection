{
 "cells": [
  {
   "cell_type": "markdown",
   "metadata": {
    "collapsed": true,
    "pycharm": {
     "name": "#%% md\n"
    }
   },
   "source": [
    "# Feature analysis of the different datasets computed using a different w"
   ]
  },
  {
   "cell_type": "code",
   "execution_count": 96,
   "outputs": [],
   "source": [
    "# Import libraries\n",
    "import os\n",
    "import numpy as np\n",
    "import matplotlib.pyplot as plt\n",
    "from matplotlib.pyplot import figure\n",
    "import pandas as pd\n",
    "%matplotlib inline"
   ],
   "metadata": {
    "collapsed": false,
    "pycharm": {
     "name": "#%%\n"
    }
   }
  },
  {
   "cell_type": "code",
   "execution_count": 97,
   "outputs": [
    {
     "name": "stdout",
     "output_type": "stream",
     "text": [
      "all datasets found on filestore\n"
     ]
    }
   ],
   "source": [
    "# Set the different datasets\n",
    "npz_key = 'ids2017'\n",
    "base_path = \"C:/Users/verdi/Documents/Datasets/IDS2017/CSV\"\n",
    "w_params = [\"15s-5s\", \"30s-2.5s\", \"30s-5s\", \"60s-2.5s\", \"60s-5s\", \"120s-2.5s\", \"120s-5s\", \"180s-5s\"]\n",
    "rel_path_to_dataset = \"processed/feature_group_5.npz\"\n",
    "datasets = {w_param: base_path + \"/\" + w_param + \"/\" + rel_path_to_dataset for w_param in w_params}\n",
    "if all([os.path.exists(p) for _, p in datasets.items()]):\n",
    "    print(\"all datasets found on filestore\")"
   ],
   "metadata": {
    "collapsed": false,
    "pycharm": {
     "name": "#%%\n"
    }
   }
  },
  {
   "cell_type": "markdown",
   "source": [
    "## Geometric intuition\n",
    "Grasping the relationship between covariance and its eigen-decompositions."
   ],
   "metadata": {
    "collapsed": false,
    "pycharm": {
     "name": "#%% md\n"
    }
   }
  },
  {
   "cell_type": "code",
   "execution_count": 113,
   "outputs": [
    {
     "data": {
      "text/plain": "<Figure size 360x360 with 4 Axes>",
      "image/png": "[encoded data removed]"
     },
     "metadata": {
      "needs_background": "light"
     },
     "output_type": "display_data"
    }
   ],
   "source": [
    "# positive covariance\n",
    "cov_pos = np.array([[5, 4], [4, 6]])\n",
    "# negative covariance\n",
    "cov_neg = np.array([[5, -4], [-4, 6]])\n",
    "# covariance spreading along the x-axis\n",
    "cov_spread_x = np.array([[1, 0], [0, 1]])\n",
    "# covariance spreading along the y-axis\n",
    "cov_spread_y = np.array([[1, 0], [0, 5]])\n",
    "\n",
    "np.random.seed(0)\n",
    "\n",
    "fig, axs = plt.subplots(2, 2, figsize=(5, 5))\n",
    "N = 50\n",
    "X = np.random.multivariate_normal([0, 0], cov_pos, N)\n",
    "axs[0, 0].scatter(X[:, 0], X[:, 1])\n",
    "X = np.random.multivariate_normal([0, 0], cov_neg, N)\n",
    "axs[0, 1].scatter(X[:, 0], X[:, 1])\n",
    "X = np.random.multivariate_normal([0, 0], cov_spread_x, N)\n",
    "axs[1, 0].scatter(X[:, 0], X[:, 1])\n",
    "X = np.random.multivariate_normal([0, 0], cov_spread_y, N)\n",
    "axs[1, 1].scatter(X[:, 0], X[:, 1])\n",
    "\n",
    "plt.show()"
   ],
   "metadata": {
    "collapsed": false,
    "pycharm": {
     "name": "#%%\n"
    }
   }
  },
  {
   "cell_type": "code",
   "execution_count": 99,
   "outputs": [
    {
     "name": "stdout",
     "output_type": "stream",
     "text": [
      "[[1.2 1.2]\n",
      " [1.2 1.2]]\n",
      "[[ 3.          7.        ]\n",
      " [ 7.         16.33333333]]\n",
      "[ 2.40000000e+00 -2.22044605e-16]\n",
      "[ 0.         19.33333333]\n"
     ]
    },
    {
     "data": {
      "text/plain": "<Figure size 504x216 with 2 Axes>",
      "image/png": "[encoded data removed]"
     },
     "metadata": {
      "needs_background": "light"
     },
     "output_type": "display_data"
    }
   ],
   "source": [
    "packets = np.array([\n",
    "    [1, 5],\n",
    "    [3, 7],\n",
    "    [1, 5],\n",
    "    [3, 7],\n",
    "    [1, 5]\n",
    "])\n",
    "\n",
    "flow_w_1 = packets.copy()\n",
    "flow_w_2 = np.array([\n",
    "    [4, 12],\n",
    "    [4, 12],\n",
    "    [1, 5]\n",
    "])\n",
    "\n",
    "cov_w_1 = np.cov(flow_w_1.T)\n",
    "cov_w_2 = np.cov(flow_w_2.T)\n",
    "print(cov_w_1)\n",
    "print(cov_w_2)\n",
    "print(np.linalg.eigvals(cov_w_1))\n",
    "print(np.linalg.eigvals(cov_w_2))\n",
    "_, axs = plt.subplots(1, 2, figsize=(7, 3))\n",
    "axs[0].scatter(flow_w_1[:, 0], flow_w_1[:, 1])\n",
    "axs[1].scatter(flow_w_2[:, 0], flow_w_2[:, 1])\n",
    "\n",
    "plt.show()"
   ],
   "metadata": {
    "collapsed": false,
    "pycharm": {
     "name": "#%%\n"
    }
   }
  },
  {
   "cell_type": "code",
   "execution_count": 100,
   "outputs": [
    {
     "name": "stdout",
     "output_type": "stream",
     "text": [
      "0.17296575312567997\n",
      "0.28340767455810717\n"
     ]
    }
   ],
   "source": [
    "w_star = \"180s-5s\"\n",
    "# actual worst: \"60s-2.5s\"\n",
    "w_worst = \"30s-5s\"\n",
    "\n",
    "X_w_star = np.load(datasets[w_star])[npz_key]\n",
    "X_w_star = X_w_star[:, :-1]\n",
    "X_w_worst = np.load(datasets[w_worst])[npz_key]\n",
    "X_w_worst = X_w_worst[:, :-1]\n",
    "\n",
    "for X in [X_w_star, X_w_worst]:\n",
    "    cov_mat = np.cov(X.T)\n",
    "    eig_vals = np.linalg.eigvals(cov_mat)\n",
    "    print(np.max(eig_vals))"
   ],
   "metadata": {
    "collapsed": false,
    "pycharm": {
     "name": "#%%\n"
    }
   }
  },
  {
   "cell_type": "markdown",
   "source": [
    "# Training results\n",
    "Training on models DeppSVDD and MemAE on IDS2017."
   ],
   "metadata": {
    "collapsed": false,
    "pycharm": {
     "name": "#%% md\n"
    }
   }
  },
  {
   "cell_type": "code",
   "execution_count": 102,
   "outputs": [
    {
     "data": {
      "text/plain": "                 key  flow_timeout  activity_timeout  model  precision  \\\n9           60s-2.5s          60.0               2.5   SVDD     0.3570   \n11            30s-5s          30.0               5.0   SVDD     0.3676   \n3            120s-5s         120.0               5.0   SVDD     0.4261   \n7             60s-5s          60.0               5.0   SVDD     0.5083   \n0   Original dataset         120.0               5.0   SVDD     0.5214   \n5          120s-2.5s         120.0               2.5   SVDD     0.5622   \n8             60s-5s          60.0               5.0  MemAE     0.5992   \n16            15s-5s          15.0               5.0  MemAE     0.6059   \n12            30s-5s          30.0               5.0  MemAE     0.6107   \n14          30s-2.5s          30.0               2.5  MemAE     0.6276   \n\n     recall      f1  epochs        N  anomaly_threshold  anomaly_ratio  \\\n9   0.3561   0.3566     200  2910260               73.0        27.0000   \n11  0.3584   0.3630     200  3209990               76.0        24.0000   \n3   0.4135   0.4197     200  2718190               72.0        28.0000   \n7   0.5069   0.5076     200  2910260               73.0        27.0000   \n0    0.5031  0.5121     200  2822083               81.0         0.1969   \n5   0.5455   0.5537     200  2718190               72.0        28.0000   \n8   0.5977   0.5985     200  2910260               73.0        27.0000   \n16  0.5966   0.6012     200  3541380               78.0        22.0000   \n12  0.5954   0.6030     200  3209990               76.0        24.0000   \n14    0.612  0.6197     200  3209990               76.0        24.0000   \n\n    batch_size  \n9          128  \n11         128  \n3          128  \n7          128  \n0            0  \n5          128  \n8          128  \n16         128  \n12         128  \n14         128  ",
      "text/html": "<div>\n<style scoped>\n    .dataframe tbody tr th:only-of-type {\n        vertical-align: middle;\n    }\n\n    .dataframe tbody tr th {\n        vertical-align: top;\n    }\n\n    .dataframe thead th {\n        text-align: right;\n    }\n</style>\n<table border=\"1\" class=\"dataframe\">\n  <thead>\n    <tr style=\"text-align: right;\">\n      <th></th>\n      <th>key</th>\n      <th>flow_timeout</th>\n      <th>activity_timeout</th>\n      <th>model</th>\n      <th>precision</th>\n      <th>recall</th>\n      <th>f1</th>\n      <th>epochs</th>\n      <th>N</th>\n      <th>anomaly_threshold</th>\n      <th>anomaly_ratio</th>\n      <th>batch_size</th>\n    </tr>\n  </thead>\n  <tbody>\n    <tr>\n      <th>9</th>\n      <td>60s-2.5s</td>\n      <td>60.0</td>\n      <td>2.5</td>\n      <td>SVDD</td>\n      <td>0.3570</td>\n      <td>0.3561</td>\n      <td>0.3566</td>\n      <td>200</td>\n      <td>2910260</td>\n      <td>73.0</td>\n      <td>27.0000</td>\n      <td>128</td>\n    </tr>\n    <tr>\n      <th>11</th>\n      <td>30s-5s</td>\n      <td>30.0</td>\n      <td>5.0</td>\n      <td>SVDD</td>\n      <td>0.3676</td>\n      <td>0.3584</td>\n      <td>0.3630</td>\n      <td>200</td>\n      <td>3209990</td>\n      <td>76.0</td>\n      <td>24.0000</td>\n      <td>128</td>\n    </tr>\n    <tr>\n      <th>3</th>\n      <td>120s-5s</td>\n      <td>120.0</td>\n      <td>5.0</td>\n      <td>SVDD</td>\n      <td>0.4261</td>\n      <td>0.4135</td>\n      <td>0.4197</td>\n      <td>200</td>\n      <td>2718190</td>\n      <td>72.0</td>\n      <td>28.0000</td>\n      <td>128</td>\n    </tr>\n    <tr>\n      <th>7</th>\n      <td>60s-5s</td>\n      <td>60.0</td>\n      <td>5.0</td>\n      <td>SVDD</td>\n      <td>0.5083</td>\n      <td>0.5069</td>\n      <td>0.5076</td>\n      <td>200</td>\n      <td>2910260</td>\n      <td>73.0</td>\n      <td>27.0000</td>\n      <td>128</td>\n    </tr>\n    <tr>\n      <th>0</th>\n      <td>Original dataset</td>\n      <td>120.0</td>\n      <td>5.0</td>\n      <td>SVDD</td>\n      <td>0.5214</td>\n      <td>0.5031</td>\n      <td>0.5121</td>\n      <td>200</td>\n      <td>2822083</td>\n      <td>81.0</td>\n      <td>0.1969</td>\n      <td>0</td>\n    </tr>\n    <tr>\n      <th>5</th>\n      <td>120s-2.5s</td>\n      <td>120.0</td>\n      <td>2.5</td>\n      <td>SVDD</td>\n      <td>0.5622</td>\n      <td>0.5455</td>\n      <td>0.5537</td>\n      <td>200</td>\n      <td>2718190</td>\n      <td>72.0</td>\n      <td>28.0000</td>\n      <td>128</td>\n    </tr>\n    <tr>\n      <th>8</th>\n      <td>60s-5s</td>\n      <td>60.0</td>\n      <td>5.0</td>\n      <td>MemAE</td>\n      <td>0.5992</td>\n      <td>0.5977</td>\n      <td>0.5985</td>\n      <td>200</td>\n      <td>2910260</td>\n      <td>73.0</td>\n      <td>27.0000</td>\n      <td>128</td>\n    </tr>\n    <tr>\n      <th>16</th>\n      <td>15s-5s</td>\n      <td>15.0</td>\n      <td>5.0</td>\n      <td>MemAE</td>\n      <td>0.6059</td>\n      <td>0.5966</td>\n      <td>0.6012</td>\n      <td>200</td>\n      <td>3541380</td>\n      <td>78.0</td>\n      <td>22.0000</td>\n      <td>128</td>\n    </tr>\n    <tr>\n      <th>12</th>\n      <td>30s-5s</td>\n      <td>30.0</td>\n      <td>5.0</td>\n      <td>MemAE</td>\n      <td>0.6107</td>\n      <td>0.5954</td>\n      <td>0.6030</td>\n      <td>200</td>\n      <td>3209990</td>\n      <td>76.0</td>\n      <td>24.0000</td>\n      <td>128</td>\n    </tr>\n    <tr>\n      <th>14</th>\n      <td>30s-2.5s</td>\n      <td>30.0</td>\n      <td>2.5</td>\n      <td>MemAE</td>\n      <td>0.6276</td>\n      <td>0.612</td>\n      <td>0.6197</td>\n      <td>200</td>\n      <td>3209990</td>\n      <td>76.0</td>\n      <td>24.0000</td>\n      <td>128</td>\n    </tr>\n  </tbody>\n</table>\n</div>"
     },
     "execution_count": 102,
     "metadata": {},
     "output_type": "execute_result"
    }
   ],
   "source": [
    "path_to_csv = \"C:\\\\Users\\\\verdi\\\\Documents\\\\Datasets\\\\IDS2017\\\\timeout_experiment.xlsx\"\n",
    "headers = ['key', 'flow_timeout', 'activity_timeout', 'model', 'precision', 'recall', 'f1',  'epochs', 'N', 'anomaly_threshold', 'anomaly_ratio', 'batch_size']\n",
    "dtypes = {\n",
    "    'key': 'object',\n",
    "    'flow_timeout': np.float16,\n",
    "    'activity_timeout': np.float16,\n",
    "    'precision': np.float32,\n",
    "    'f1': np.float32,\n",
    "    'N': np.int64,\n",
    "    'anomaly_threshold': np.float32,\n",
    "    'anomaly_ratio': np.float32,\n",
    "    'batch_size': np.int64\n",
    "}\n",
    "df = pd.read_excel(path_to_csv, names=headers, dtype=dtypes)\n",
    "df = df.dropna().sort_values('f1')\n",
    "df.head(10)"
   ],
   "metadata": {
    "collapsed": false,
    "pycharm": {
     "name": "#%%\n"
    }
   }
  },
  {
   "cell_type": "code",
   "execution_count": 104,
   "outputs": [
    {
     "data": {
      "text/plain": "<Figure size 1000x1000 with 0 Axes>"
     },
     "metadata": {},
     "output_type": "display_data"
    },
    {
     "data": {
      "text/plain": "<Figure size 1008x504 with 1 Axes>",
      "image/png": "[encoded data removed]"
     },
     "metadata": {
      "needs_background": "light"
     },
     "output_type": "display_data"
    }
   ],
   "source": [
    "figure(figsize=(10, 10), dpi=100)\n",
    "\n",
    "models = list(set(df['model']))\n",
    "df_5s = df[ df['activity_timeout'] == 5.0 ]\n",
    "\n",
    "fig, ax = plt.subplots(figsize=(14, 7))\n",
    "\n",
    "colors = ['yellow', 'blue']\n",
    "for i, model in enumerate(models):\n",
    "    keys = list(set(df['flow_timeout']))\n",
    "    f1s = list(df_5s[df_5s['model'] == model]['f1'])\n",
    "    ax.plot(keys, f1s, 'o', color=colors[i], label=model)\n",
    "\n",
    "ax.set_xlabel(\"w parameter\")\n",
    "ax.set_ylabel(\"F1-Score\")\n",
    "ax.set_title(\"F1-Score over multiple timeout parameters\")\n",
    "ax.legend()\n",
    "plt.show()"
   ],
   "metadata": {
    "collapsed": false,
    "pycharm": {
     "name": "#%%\n"
    }
   }
  },
  {
   "cell_type": "code",
   "execution_count": null,
   "outputs": [],
   "source": [
    "df = df[df['model'] == 'SVDD']\n",
    "x, y = [], []\n",
    "colors = ['tab:blue', 'tab:orange', 'tab:green', 'tab:red', 'tab:purple', 'tab:brown', 'tab:pink', 'tab:cyan']\n",
    "\n",
    "for w, col in zip(df['key'], colors):\n",
    "    if w == 'Original dataset':\n",
    "        continue\n",
    "    data = np.load(datasets[w])[npz_key]\n",
    "    # Drop the labels\n",
    "    data = data[:, :-1]\n",
    "    cov_mat = np.cov(data.T)\n",
    "    eig_vals = np.linalg.eigvals(cov_mat)\n",
    "    max_eig_val = np.max(eig_vals)\n",
    "    f1 = df[df['key'] == w]['f1'].item()\n",
    "    print(f1)\n",
    "    print(max_eig_val)\n",
    "    x.append(f1)\n",
    "    y.append(max_eig_val)"
   ],
   "metadata": {
    "collapsed": false,
    "pycharm": {
     "name": "#%%\n"
    }
   }
  },
  {
   "cell_type": "code",
   "execution_count": null,
   "outputs": [],
   "source": [
    "figure(figsize=(10, 10), dpi=100)\n",
    "\n",
    "for w, col, x, y in zip(df['key'], colors, x, y):\n",
    "    if w == 'Original dataset':\n",
    "        continue\n",
    "    plt.scatter(x, y, color=col, label=w)\n",
    "\n",
    "plt.xlabel(\"F1-Score\")\n",
    "plt.ylabel(\"Max Eig Val\")\n",
    "plt.legend()\n",
    "plt.show()"
   ],
   "metadata": {
    "collapsed": false,
    "pycharm": {
     "name": "#%%\n"
    }
   }
  }
 ],
 "metadata": {
  "kernelspec": {
   "name": "anomaly_detection",
   "language": "python",
   "display_name": "anomaly_detection"
  },
  "language_info": {
   "codemirror_mode": {
    "name": "ipython",
    "version": 2
   },
   "file_extension": ".py",
   "mimetype": "text/x-python",
   "name": "python",
   "nbconvert_exporter": "python",
   "pygments_lexer": "ipython2",
   "version": "2.7.6"
  }
 },
 "nbformat": 4,
 "nbformat_minor": 0
}