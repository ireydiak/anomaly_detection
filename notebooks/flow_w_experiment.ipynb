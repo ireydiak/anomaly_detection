{
 "cells": [
  {
   "cell_type": "markdown",
   "metadata": {
    "collapsed": true,
    "pycharm": {
     "name": "#%% md\n"
    }
   },
   "source": [
    "# Flow w experiment\n",
    "Testing multiple time window parameters on dataset CICIDS2017 to evaluate its impact on the performance of several machine learning model."
   ]
  },
  {
   "cell_type": "markdown",
   "metadata": {
    "pycharm": {
     "name": "#%% md\n"
    }
   },
   "source": [
    "## Import relevant libraries"
   ]
  },
  {
   "cell_type": "code",
   "execution_count": 6,
   "metadata": {
    "pycharm": {
     "name": "#%%\n"
    }
   },
   "outputs": [],
   "source": [
    "import torch\n",
    "from src.exp import BatchTrainer, Experiment"
   ]
  },
  {
   "cell_type": "markdown",
   "metadata": {
    "pycharm": {
     "name": "#%% md\n"
    }
   },
   "source": [
    "## Define the experiments\n",
    "We want to train several models on different time-window parameters."
   ]
  },
  {
   "cell_type": "code",
   "execution_count": 7,
   "metadata": {
    "pycharm": {
     "name": "#%%\n"
    }
   },
   "outputs": [],
   "source": [
    "# Set the general parameters\n",
    "n_epochs = 200\n",
    "batch_size = 1024\n",
    "dataset_name = \"IDS2017\"\n",
    "normal_ratio = 1.\n",
    "n_runs = 1\n",
    "device = \"cuda:0\" if torch.cuda.is_available() else \"cpu\"\n",
    "neptune_mode = \"async\""
   ]
  },
  {
   "cell_type": "code",
   "execution_count": 8,
   "metadata": {
    "pycharm": {
     "name": "#%%\n"
    }
   },
   "outputs": [
    {
     "data": {
      "text/plain": "     model  device  epochs  dataset  pct   tau  batch_size  n_runs\n0  DSEBM-e  cuda:0     200  IDS2017  1.0  None        1024       1\n1  DSEBM-e  cuda:0     200  IDS2017  1.0  None        1024       1\n2  DSEBM-e  cuda:0     200  IDS2017  1.0  None        1024       1\n3  DSEBM-e  cuda:0     200  IDS2017  1.0  None        1024       1\n4  DSEBM-e  cuda:0     200  IDS2017  1.0  None        1024       1",
      "text/html": "<div>\n<style scoped>\n    .dataframe tbody tr th:only-of-type {\n        vertical-align: middle;\n    }\n\n    .dataframe tbody tr th {\n        vertical-align: top;\n    }\n\n    .dataframe thead th {\n        text-align: right;\n    }\n</style>\n<table border=\"1\" class=\"dataframe\">\n  <thead>\n    <tr style=\"text-align: right;\">\n      <th></th>\n      <th>model</th>\n      <th>device</th>\n      <th>epochs</th>\n      <th>dataset</th>\n      <th>pct</th>\n      <th>tau</th>\n      <th>batch_size</th>\n      <th>n_runs</th>\n    </tr>\n  </thead>\n  <tbody>\n    <tr>\n      <th>0</th>\n      <td>DSEBM-e</td>\n      <td>cuda:0</td>\n      <td>200</td>\n      <td>IDS2017</td>\n      <td>1.0</td>\n      <td>None</td>\n      <td>1024</td>\n      <td>1</td>\n    </tr>\n    <tr>\n      <th>1</th>\n      <td>DSEBM-e</td>\n      <td>cuda:0</td>\n      <td>200</td>\n      <td>IDS2017</td>\n      <td>1.0</td>\n      <td>None</td>\n      <td>1024</td>\n      <td>1</td>\n    </tr>\n    <tr>\n      <th>2</th>\n      <td>DSEBM-e</td>\n      <td>cuda:0</td>\n      <td>200</td>\n      <td>IDS2017</td>\n      <td>1.0</td>\n      <td>None</td>\n      <td>1024</td>\n      <td>1</td>\n    </tr>\n    <tr>\n      <th>3</th>\n      <td>DSEBM-e</td>\n      <td>cuda:0</td>\n      <td>200</td>\n      <td>IDS2017</td>\n      <td>1.0</td>\n      <td>None</td>\n      <td>1024</td>\n      <td>1</td>\n    </tr>\n    <tr>\n      <th>4</th>\n      <td>DSEBM-e</td>\n      <td>cuda:0</td>\n      <td>200</td>\n      <td>IDS2017</td>\n      <td>1.0</td>\n      <td>None</td>\n      <td>1024</td>\n      <td>1</td>\n    </tr>\n  </tbody>\n</table>\n</div>"
     },
     "execution_count": 8,
     "metadata": {},
     "output_type": "execute_result"
    }
   ],
   "source": [
    "# Set the different datasets\n",
    "base_path = \"C:/Users/verdi/Documents/Datasets/IDS2017/CSV\"\n",
    "#w_params = [\"15s-5s\", \"30s-2.5s\", \"30s-5s\", \"60s-2.5s\", \"60s-5s\", \"120s-2.5s\", \"120s-5s\", \"180s-5s\"]\n",
    "# w_params = [\"30s-2.5s\", \"30s-5s\", \"60s-2.5s\", \"60s-5s\", \"120s-2.5s\", \"120s-5s\", \"180s-5s\"]\n",
    "# w_params = [\"30s-2.5s\", \"30s-5s\", \"60s-2.5s\", \"60s-5s\", \"120s-2.5s\", \"120s-5s\", \"180s-5s\"]\n",
    "w_params = [\"15s-5s\", \"30s-5s\", \"60s-5s\", \"120s-5s\", \"180s-5s\"]\n",
    "\n",
    "rel_path_to_dataset = \"processed/feature_group_5.npz\"\n",
    "datasets = [(base_path + \"/\" + w_param + \"/\" + rel_path_to_dataset, w_param) for w_param in w_params]\n",
    "\n",
    "# Set the different models\n",
    "#models = [\"MemAE\", \"DeepSVDD\", \"DAGMM\"]\n",
    "models = [\"DSEBM-e\"]\n",
    "\n",
    "# Merge datasets with models\n",
    "settings = [(path, w_param, model) for path, w_param in datasets for model in models]\n",
    "assert len(settings) == len(models) * len(w_params)\n",
    "\n",
    "# path_to_dataset: str, export_path: str, device: str,\n",
    "# neptune_mode: str, neptune_tags: list, dataset: str, pct: float, model: str, epochs: int, n_runs: int,\n",
    "# batch_size: int, model_param=None, seed=None\n",
    "# Given the models and datasets, define the experiments\n",
    "experiments = []\n",
    "for setting in settings:\n",
    "    p, w, m = setting\n",
    "    neptune_tags = [m, w, dataset_name]\n",
    "    experiments.append(\n",
    "        Experiment(p, \"../results/IDS2017\", device, neptune_mode, neptune_tags, dataset_name, normal_ratio, m, n_epochs, n_runs, batch_size)\n",
    "    )\n",
    "# Create the batch trainer\n",
    "trainer = BatchTrainer(experiments)\n",
    "trainer.summary()"
   ]
  },
  {
   "cell_type": "code",
   "execution_count": 9,
   "metadata": {
    "pycharm": {
     "name": "#%%\n"
    }
   },
   "outputs": [
    {
     "name": "stdout",
     "output_type": "stream",
     "text": [
      "https://app.neptune.ai/jcverdier/anomaly-detection/e/AN-42\r\n",
      "Remember to stop your run once you’ve finished logging your metadata (https://docs.neptune.ai/api-reference/run#stop). It will be stopped automatically only when the notebook kernel/interactive console is terminated.\r\n",
      "Training DSEBM-e with shape (3541383, 71), anomaly ratio 0.2234\n",
      "Run 1/1\n",
      "Started training\n",
      "Evaluating model with threshold tau=78\n",
      "{'Precision': 0.061649165247806226, 'Recall': 0.06071857650525464, 'F1-Score': 0.06118033238102762, 'AUROC': 0.5950915156883665, 'AUPR': 0.23776697699401148}\n",
      "Shutting down background jobs, please wait a moment...\r\n",
      "Done!\r\n"
     ]
    },
    {
     "name": "stderr",
     "output_type": "stream",
     "text": [
      "Waiting for the remaining 15 operations to synchronize with Neptune. Do not kill this process.\n"
     ]
    },
    {
     "name": "stdout",
     "output_type": "stream",
     "text": [
      "All 15 operations synced, thanks for waiting!\r\n",
      "https://app.neptune.ai/jcverdier/anomaly-detection/e/AN-43\r\n",
      "Remember to stop your run once you’ve finished logging your metadata (https://docs.neptune.ai/api-reference/run#stop). It will be stopped automatically only when the notebook kernel/interactive console is terminated.\r\n",
      "Training DSEBM-e with shape (3209989, 71), anomaly ratio 0.2461\n",
      "Run 1/1\n",
      "Started training\n"
     ]
    },
    {
     "ename": "KeyboardInterrupt",
     "evalue": "",
     "output_type": "error",
     "traceback": [
      "\u001B[1;31m---------------------------------------------------------------------------\u001B[0m",
      "\u001B[1;31mKeyboardInterrupt\u001B[0m                         Traceback (most recent call last)",
      "\u001B[1;32m<ipython-input-9-3435b262f1ae>\u001B[0m in \u001B[0;36m<module>\u001B[1;34m\u001B[0m\n\u001B[1;32m----> 1\u001B[1;33m \u001B[0mtrainer\u001B[0m\u001B[1;33m.\u001B[0m\u001B[0mtrain\u001B[0m\u001B[1;33m(\u001B[0m\u001B[1;33m)\u001B[0m\u001B[1;33m\u001B[0m\u001B[1;33m\u001B[0m\u001B[0m\n\u001B[0m",
      "\u001B[1;32m~\\NRCAN\\git\\anomaly_detection\\src\\exp.py\u001B[0m in \u001B[0;36mtrain\u001B[1;34m(self)\u001B[0m\n\u001B[0;32m    152\u001B[0m     \u001B[1;32mdef\u001B[0m \u001B[0mtrain\u001B[0m\u001B[1;33m(\u001B[0m\u001B[0mself\u001B[0m\u001B[1;33m)\u001B[0m\u001B[1;33m:\u001B[0m\u001B[1;33m\u001B[0m\u001B[1;33m\u001B[0m\u001B[0m\n\u001B[0;32m    153\u001B[0m         \u001B[1;32mfor\u001B[0m \u001B[0mexp\u001B[0m \u001B[1;32min\u001B[0m \u001B[0mself\u001B[0m\u001B[1;33m.\u001B[0m\u001B[0mexperiments\u001B[0m\u001B[1;33m:\u001B[0m\u001B[1;33m\u001B[0m\u001B[1;33m\u001B[0m\u001B[0m\n\u001B[1;32m--> 154\u001B[1;33m             \u001B[0mself\u001B[0m\u001B[1;33m.\u001B[0m\u001B[0mrun_experiment\u001B[0m\u001B[1;33m(\u001B[0m\u001B[0mexp\u001B[0m\u001B[1;33m)\u001B[0m\u001B[1;33m\u001B[0m\u001B[1;33m\u001B[0m\u001B[0m\n\u001B[0m\u001B[0;32m    155\u001B[0m \u001B[1;33m\u001B[0m\u001B[0m\n\u001B[0;32m    156\u001B[0m     \u001B[1;32mdef\u001B[0m \u001B[0mrun_experiment\u001B[0m\u001B[1;33m(\u001B[0m\u001B[0mself\u001B[0m\u001B[1;33m,\u001B[0m \u001B[0mexp\u001B[0m\u001B[1;33m:\u001B[0m \u001B[0mExperiment\u001B[0m\u001B[1;33m)\u001B[0m\u001B[1;33m:\u001B[0m\u001B[1;33m\u001B[0m\u001B[1;33m\u001B[0m\u001B[0m\n",
      "\u001B[1;32m~\\NRCAN\\git\\anomaly_detection\\src\\exp.py\u001B[0m in \u001B[0;36mrun_experiment\u001B[1;34m(self, exp)\u001B[0m\n\u001B[0;32m    187\u001B[0m         \u001B[1;32mfor\u001B[0m \u001B[0mi\u001B[0m \u001B[1;32min\u001B[0m \u001B[0mrange\u001B[0m\u001B[1;33m(\u001B[0m\u001B[0mexp\u001B[0m\u001B[1;33m.\u001B[0m\u001B[0mn_runs\u001B[0m\u001B[1;33m)\u001B[0m\u001B[1;33m:\u001B[0m\u001B[1;33m\u001B[0m\u001B[1;33m\u001B[0m\u001B[0m\n\u001B[0;32m    188\u001B[0m             \u001B[0mprint\u001B[0m\u001B[1;33m(\u001B[0m\u001B[1;34mf\"Run {i + 1}/{exp.n_runs}\"\u001B[0m\u001B[1;33m)\u001B[0m\u001B[1;33m\u001B[0m\u001B[1;33m\u001B[0m\u001B[0m\n\u001B[1;32m--> 189\u001B[1;33m             \u001B[0mmetrics\u001B[0m \u001B[1;33m=\u001B[0m \u001B[0mtrain_once\u001B[0m\u001B[1;33m(\u001B[0m\u001B[0mtrainer\u001B[0m\u001B[1;33m,\u001B[0m \u001B[0mtrain_ldr\u001B[0m\u001B[1;33m,\u001B[0m \u001B[0mtest_ldr\u001B[0m\u001B[1;33m,\u001B[0m \u001B[0mtau\u001B[0m\u001B[1;33m,\u001B[0m \u001B[0mrun\u001B[0m\u001B[1;33m)\u001B[0m\u001B[1;33m\u001B[0m\u001B[1;33m\u001B[0m\u001B[0m\n\u001B[0m\u001B[0;32m    190\u001B[0m             \u001B[0mprint\u001B[0m\u001B[1;33m(\u001B[0m\u001B[0mmetrics\u001B[0m\u001B[1;33m)\u001B[0m\u001B[1;33m\u001B[0m\u001B[1;33m\u001B[0m\u001B[0m\n\u001B[0;32m    191\u001B[0m             \u001B[1;32mfor\u001B[0m \u001B[0mm\u001B[0m\u001B[1;33m,\u001B[0m \u001B[0mval\u001B[0m \u001B[1;32min\u001B[0m \u001B[0mzip\u001B[0m\u001B[1;33m(\u001B[0m\u001B[1;33m[\u001B[0m\u001B[0mP\u001B[0m\u001B[1;33m,\u001B[0m \u001B[0mR\u001B[0m\u001B[1;33m,\u001B[0m \u001B[0mFS\u001B[0m\u001B[1;33m,\u001B[0m \u001B[0mROC\u001B[0m\u001B[1;33m,\u001B[0m \u001B[0mPR\u001B[0m\u001B[1;33m]\u001B[0m\u001B[1;33m,\u001B[0m \u001B[0mmetrics\u001B[0m\u001B[1;33m.\u001B[0m\u001B[0mvalues\u001B[0m\u001B[1;33m(\u001B[0m\u001B[1;33m)\u001B[0m\u001B[1;33m)\u001B[0m\u001B[1;33m:\u001B[0m\u001B[1;33m\u001B[0m\u001B[1;33m\u001B[0m\u001B[0m\n",
      "\u001B[1;32m~\\NRCAN\\git\\anomaly_detection\\src\\exp.py\u001B[0m in \u001B[0;36mtrain_once\u001B[1;34m(trainer, train_ldr, test_ldr, tau, nep)\u001B[0m\n\u001B[0;32m     39\u001B[0m \u001B[1;33m\u001B[0m\u001B[0m\n\u001B[0;32m     40\u001B[0m \u001B[1;32mdef\u001B[0m \u001B[0mtrain_once\u001B[0m\u001B[1;33m(\u001B[0m\u001B[0mtrainer\u001B[0m\u001B[1;33m,\u001B[0m \u001B[0mtrain_ldr\u001B[0m\u001B[1;33m,\u001B[0m \u001B[0mtest_ldr\u001B[0m\u001B[1;33m,\u001B[0m \u001B[0mtau\u001B[0m\u001B[1;33m,\u001B[0m \u001B[0mnep\u001B[0m\u001B[1;33m)\u001B[0m\u001B[1;33m:\u001B[0m\u001B[1;33m\u001B[0m\u001B[1;33m\u001B[0m\u001B[0m\n\u001B[1;32m---> 41\u001B[1;33m     \u001B[0mtrainer\u001B[0m\u001B[1;33m.\u001B[0m\u001B[0mtrain\u001B[0m\u001B[1;33m(\u001B[0m\u001B[0mtrain_ldr\u001B[0m\u001B[1;33m,\u001B[0m \u001B[0mnep\u001B[0m\u001B[1;33m)\u001B[0m\u001B[1;33m\u001B[0m\u001B[1;33m\u001B[0m\u001B[0m\n\u001B[0m\u001B[0;32m     42\u001B[0m     \u001B[0my_train_true\u001B[0m\u001B[1;33m,\u001B[0m \u001B[0mtrain_scores\u001B[0m \u001B[1;33m=\u001B[0m \u001B[0mtrainer\u001B[0m\u001B[1;33m.\u001B[0m\u001B[0mtest\u001B[0m\u001B[1;33m(\u001B[0m\u001B[0mtrain_ldr\u001B[0m\u001B[1;33m)\u001B[0m\u001B[1;33m\u001B[0m\u001B[1;33m\u001B[0m\u001B[0m\n\u001B[0;32m     43\u001B[0m     \u001B[0my_test_true\u001B[0m\u001B[1;33m,\u001B[0m \u001B[0mtest_scores\u001B[0m \u001B[1;33m=\u001B[0m \u001B[0mtrainer\u001B[0m\u001B[1;33m.\u001B[0m\u001B[0mtest\u001B[0m\u001B[1;33m(\u001B[0m\u001B[0mtest_ldr\u001B[0m\u001B[1;33m)\u001B[0m\u001B[1;33m\u001B[0m\u001B[1;33m\u001B[0m\u001B[0m\n",
      "\u001B[1;32m~\\NRCAN\\git\\anomaly_detection\\src\\trainers\\BaseTrainer.py\u001B[0m in \u001B[0;36mtrain\u001B[1;34m(self, dataset, nep)\u001B[0m\n\u001B[0;32m     65\u001B[0m                 \u001B[0moptimizer\u001B[0m\u001B[1;33m.\u001B[0m\u001B[0mzero_grad\u001B[0m\u001B[1;33m(\u001B[0m\u001B[1;33m)\u001B[0m\u001B[1;33m\u001B[0m\u001B[1;33m\u001B[0m\u001B[0m\n\u001B[0;32m     66\u001B[0m \u001B[1;33m\u001B[0m\u001B[0m\n\u001B[1;32m---> 67\u001B[1;33m                 \u001B[0mloss\u001B[0m \u001B[1;33m=\u001B[0m \u001B[0mself\u001B[0m\u001B[1;33m.\u001B[0m\u001B[0mtrain_iter\u001B[0m\u001B[1;33m(\u001B[0m\u001B[0mX\u001B[0m\u001B[1;33m)\u001B[0m\u001B[1;33m\u001B[0m\u001B[1;33m\u001B[0m\u001B[0m\n\u001B[0m\u001B[0;32m     68\u001B[0m                 \u001B[1;32mif\u001B[0m \u001B[0mnep\u001B[0m\u001B[1;33m:\u001B[0m\u001B[1;33m\u001B[0m\u001B[1;33m\u001B[0m\u001B[0m\n\u001B[0;32m     69\u001B[0m                     \u001B[0mnep\u001B[0m\u001B[1;33m[\u001B[0m\u001B[1;34m\"training/metrics/batch/loss\"\u001B[0m\u001B[1;33m]\u001B[0m \u001B[1;33m=\u001B[0m \u001B[0mloss\u001B[0m\u001B[1;33m\u001B[0m\u001B[1;33m\u001B[0m\u001B[0m\n",
      "\u001B[1;32m~\\NRCAN\\git\\anomaly_detection\\src\\trainers\\EnergyTrainer.py\u001B[0m in \u001B[0;36mtrain_iter\u001B[1;34m(self, sample)\u001B[0m\n\u001B[0;32m     65\u001B[0m \u001B[1;33m\u001B[0m\u001B[0m\n\u001B[0;32m     66\u001B[0m     \u001B[1;32mdef\u001B[0m \u001B[0mtrain_iter\u001B[0m\u001B[1;33m(\u001B[0m\u001B[0mself\u001B[0m\u001B[1;33m,\u001B[0m \u001B[0msample\u001B[0m\u001B[1;33m:\u001B[0m \u001B[0mtorch\u001B[0m\u001B[1;33m.\u001B[0m\u001B[0mTensor\u001B[0m\u001B[1;33m)\u001B[0m\u001B[1;33m:\u001B[0m\u001B[1;33m\u001B[0m\u001B[1;33m\u001B[0m\u001B[0m\n\u001B[1;32m---> 67\u001B[1;33m         \u001B[0mnoise\u001B[0m \u001B[1;33m=\u001B[0m \u001B[0mself\u001B[0m\u001B[1;33m.\u001B[0m\u001B[0mmodel\u001B[0m\u001B[1;33m.\u001B[0m\u001B[0mrandom_noise_like\u001B[0m\u001B[1;33m(\u001B[0m\u001B[0msample\u001B[0m\u001B[1;33m)\u001B[0m\u001B[1;33m.\u001B[0m\u001B[0mto\u001B[0m\u001B[1;33m(\u001B[0m\u001B[0mself\u001B[0m\u001B[1;33m.\u001B[0m\u001B[0mdevice\u001B[0m\u001B[1;33m)\u001B[0m\u001B[1;33m\u001B[0m\u001B[1;33m\u001B[0m\u001B[0m\n\u001B[0m\u001B[0;32m     68\u001B[0m \u001B[1;33m\u001B[0m\u001B[0m\n\u001B[0;32m     69\u001B[0m         \u001B[0mX_noise\u001B[0m \u001B[1;33m=\u001B[0m \u001B[0msample\u001B[0m \u001B[1;33m+\u001B[0m \u001B[0mnoise\u001B[0m\u001B[1;33m\u001B[0m\u001B[1;33m\u001B[0m\u001B[0m\n",
      "\u001B[1;32m~\\NRCAN\\git\\anomaly_detection\\src\\models\\Energy.py\u001B[0m in \u001B[0;36mrandom_noise_like\u001B[1;34m(self, X)\u001B[0m\n\u001B[0;32m     31\u001B[0m \u001B[1;33m\u001B[0m\u001B[0m\n\u001B[0;32m     32\u001B[0m     \u001B[1;32mdef\u001B[0m \u001B[0mrandom_noise_like\u001B[0m\u001B[1;33m(\u001B[0m\u001B[0mself\u001B[0m\u001B[1;33m,\u001B[0m \u001B[0mX\u001B[0m\u001B[1;33m:\u001B[0m \u001B[0mtorch\u001B[0m\u001B[1;33m.\u001B[0m\u001B[0mTensor\u001B[0m\u001B[1;33m)\u001B[0m\u001B[1;33m:\u001B[0m\u001B[1;33m\u001B[0m\u001B[1;33m\u001B[0m\u001B[0m\n\u001B[1;32m---> 33\u001B[1;33m         \u001B[1;32mreturn\u001B[0m \u001B[0mtorch\u001B[0m\u001B[1;33m.\u001B[0m\u001B[0mnormal\u001B[0m\u001B[1;33m(\u001B[0m\u001B[0mmean\u001B[0m\u001B[1;33m=\u001B[0m\u001B[1;36m0.\u001B[0m\u001B[1;33m,\u001B[0m \u001B[0mstd\u001B[0m\u001B[1;33m=\u001B[0m\u001B[1;36m1.\u001B[0m\u001B[1;33m,\u001B[0m \u001B[0msize\u001B[0m\u001B[1;33m=\u001B[0m\u001B[0mX\u001B[0m\u001B[1;33m.\u001B[0m\u001B[0mshape\u001B[0m\u001B[1;33m)\u001B[0m\u001B[1;33m.\u001B[0m\u001B[0mfloat\u001B[0m\u001B[1;33m(\u001B[0m\u001B[1;33m)\u001B[0m\u001B[1;33m\u001B[0m\u001B[1;33m\u001B[0m\u001B[0m\n\u001B[0m\u001B[0;32m     34\u001B[0m \u001B[1;33m\u001B[0m\u001B[0m\n\u001B[0;32m     35\u001B[0m     \u001B[1;32mdef\u001B[0m \u001B[0mforward\u001B[0m\u001B[1;33m(\u001B[0m\u001B[0mself\u001B[0m\u001B[1;33m,\u001B[0m \u001B[0mX\u001B[0m\u001B[1;33m:\u001B[0m \u001B[0mtorch\u001B[0m\u001B[1;33m.\u001B[0m\u001B[0mTensor\u001B[0m\u001B[1;33m)\u001B[0m\u001B[1;33m:\u001B[0m\u001B[1;33m\u001B[0m\u001B[1;33m\u001B[0m\u001B[0m\n",
      "\u001B[1;31mKeyboardInterrupt\u001B[0m: "
     ]
    }
   ],
   "source": [
    "trainer.train()"
   ]
  }
 ],
 "metadata": {
  "kernelspec": {
   "name": "anomaly_detection",
   "language": "python",
   "display_name": "anomaly_detection"
  },
  "language_info": {
   "codemirror_mode": {
    "name": "ipython",
    "version": 3
   },
   "file_extension": ".py",
   "mimetype": "text/x-python",
   "name": "python",
   "nbconvert_exporter": "python",
   "pygments_lexer": "ipython3",
   "version": "3.8.8"
  }
 },
 "nbformat": 4,
 "nbformat_minor": 1
}