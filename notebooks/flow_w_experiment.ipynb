{
 "cells": [
  {
   "cell_type": "markdown",
   "metadata": {
    "collapsed": true,
    "pycharm": {
     "name": "#%% md\n"
    }
   },
   "source": [
    "# Flow w experiment\n",
    "Testing multiple time window parameters on dataset CICIDS2017 to evaluate its impact on the performance of several machine learning model."
   ]
  },
  {
   "cell_type": "markdown",
   "source": [
    "## Import relevant libraries"
   ],
   "metadata": {
    "collapsed": false,
    "pycharm": {
     "name": "#%% md\n"
    }
   }
  },
  {
   "cell_type": "code",
   "execution_count": 8,
   "outputs": [],
   "source": [
    "import torch\n",
    "from src.exp import BatchTrainer, Experiment"
   ],
   "metadata": {
    "collapsed": false,
    "pycharm": {
     "name": "#%%\n"
    }
   }
  },
  {
   "cell_type": "markdown",
   "source": [
    "## Define the experiments\n",
    "We want to train several models on different time-window parameters."
   ],
   "metadata": {
    "collapsed": false,
    "pycharm": {
     "name": "#%% md\n"
    }
   }
  },
  {
   "cell_type": "code",
   "execution_count": 9,
   "outputs": [],
   "source": [
    "# Set the general parameters\n",
    "n_epochs = 1\n",
    "batch_size = 128\n",
    "dataset_name = \"IDS2017\"\n",
    "normal_ratio = 1.\n",
    "n_runs = 1\n",
    "device = \"cuda:0\" if torch.cuda.is_available() else \"cpu\"\n",
    "neptune_mode = \"offline\""
   ],
   "metadata": {
    "collapsed": false,
    "pycharm": {
     "name": "#%%\n"
    }
   }
  },
  {
   "cell_type": "code",
   "execution_count": 10,
   "outputs": [
    {
     "data": {
      "text/plain": "       model  device  epochs  dataset  pct   tau  batch_size  n_runs\n0      MemAE  cuda:0       1  IDS2017  1.0  None         128       1\n1   DeepSVDD  cuda:0       1  IDS2017  1.0  None         128       1\n2      MemAE  cuda:0       1  IDS2017  1.0  None         128       1\n3   DeepSVDD  cuda:0       1  IDS2017  1.0  None         128       1\n4      MemAE  cuda:0       1  IDS2017  1.0  None         128       1\n5   DeepSVDD  cuda:0       1  IDS2017  1.0  None         128       1\n6      MemAE  cuda:0       1  IDS2017  1.0  None         128       1\n7   DeepSVDD  cuda:0       1  IDS2017  1.0  None         128       1\n8      MemAE  cuda:0       1  IDS2017  1.0  None         128       1\n9   DeepSVDD  cuda:0       1  IDS2017  1.0  None         128       1\n10     MemAE  cuda:0       1  IDS2017  1.0  None         128       1\n11  DeepSVDD  cuda:0       1  IDS2017  1.0  None         128       1\n12     MemAE  cuda:0       1  IDS2017  1.0  None         128       1\n13  DeepSVDD  cuda:0       1  IDS2017  1.0  None         128       1\n14     MemAE  cuda:0       1  IDS2017  1.0  None         128       1\n15  DeepSVDD  cuda:0       1  IDS2017  1.0  None         128       1",
      "text/html": "<div>\n<style scoped>\n    .dataframe tbody tr th:only-of-type {\n        vertical-align: middle;\n    }\n\n    .dataframe tbody tr th {\n        vertical-align: top;\n    }\n\n    .dataframe thead th {\n        text-align: right;\n    }\n</style>\n<table border=\"1\" class=\"dataframe\">\n  <thead>\n    <tr style=\"text-align: right;\">\n      <th></th>\n      <th>model</th>\n      <th>device</th>\n      <th>epochs</th>\n      <th>dataset</th>\n      <th>pct</th>\n      <th>tau</th>\n      <th>batch_size</th>\n      <th>n_runs</th>\n    </tr>\n  </thead>\n  <tbody>\n    <tr>\n      <th>0</th>\n      <td>MemAE</td>\n      <td>cuda:0</td>\n      <td>1</td>\n      <td>IDS2017</td>\n      <td>1.0</td>\n      <td>None</td>\n      <td>128</td>\n      <td>1</td>\n    </tr>\n    <tr>\n      <th>1</th>\n      <td>DeepSVDD</td>\n      <td>cuda:0</td>\n      <td>1</td>\n      <td>IDS2017</td>\n      <td>1.0</td>\n      <td>None</td>\n      <td>128</td>\n      <td>1</td>\n    </tr>\n    <tr>\n      <th>2</th>\n      <td>MemAE</td>\n      <td>cuda:0</td>\n      <td>1</td>\n      <td>IDS2017</td>\n      <td>1.0</td>\n      <td>None</td>\n      <td>128</td>\n      <td>1</td>\n    </tr>\n    <tr>\n      <th>3</th>\n      <td>DeepSVDD</td>\n      <td>cuda:0</td>\n      <td>1</td>\n      <td>IDS2017</td>\n      <td>1.0</td>\n      <td>None</td>\n      <td>128</td>\n      <td>1</td>\n    </tr>\n    <tr>\n      <th>4</th>\n      <td>MemAE</td>\n      <td>cuda:0</td>\n      <td>1</td>\n      <td>IDS2017</td>\n      <td>1.0</td>\n      <td>None</td>\n      <td>128</td>\n      <td>1</td>\n    </tr>\n    <tr>\n      <th>5</th>\n      <td>DeepSVDD</td>\n      <td>cuda:0</td>\n      <td>1</td>\n      <td>IDS2017</td>\n      <td>1.0</td>\n      <td>None</td>\n      <td>128</td>\n      <td>1</td>\n    </tr>\n    <tr>\n      <th>6</th>\n      <td>MemAE</td>\n      <td>cuda:0</td>\n      <td>1</td>\n      <td>IDS2017</td>\n      <td>1.0</td>\n      <td>None</td>\n      <td>128</td>\n      <td>1</td>\n    </tr>\n    <tr>\n      <th>7</th>\n      <td>DeepSVDD</td>\n      <td>cuda:0</td>\n      <td>1</td>\n      <td>IDS2017</td>\n      <td>1.0</td>\n      <td>None</td>\n      <td>128</td>\n      <td>1</td>\n    </tr>\n    <tr>\n      <th>8</th>\n      <td>MemAE</td>\n      <td>cuda:0</td>\n      <td>1</td>\n      <td>IDS2017</td>\n      <td>1.0</td>\n      <td>None</td>\n      <td>128</td>\n      <td>1</td>\n    </tr>\n    <tr>\n      <th>9</th>\n      <td>DeepSVDD</td>\n      <td>cuda:0</td>\n      <td>1</td>\n      <td>IDS2017</td>\n      <td>1.0</td>\n      <td>None</td>\n      <td>128</td>\n      <td>1</td>\n    </tr>\n    <tr>\n      <th>10</th>\n      <td>MemAE</td>\n      <td>cuda:0</td>\n      <td>1</td>\n      <td>IDS2017</td>\n      <td>1.0</td>\n      <td>None</td>\n      <td>128</td>\n      <td>1</td>\n    </tr>\n    <tr>\n      <th>11</th>\n      <td>DeepSVDD</td>\n      <td>cuda:0</td>\n      <td>1</td>\n      <td>IDS2017</td>\n      <td>1.0</td>\n      <td>None</td>\n      <td>128</td>\n      <td>1</td>\n    </tr>\n    <tr>\n      <th>12</th>\n      <td>MemAE</td>\n      <td>cuda:0</td>\n      <td>1</td>\n      <td>IDS2017</td>\n      <td>1.0</td>\n      <td>None</td>\n      <td>128</td>\n      <td>1</td>\n    </tr>\n    <tr>\n      <th>13</th>\n      <td>DeepSVDD</td>\n      <td>cuda:0</td>\n      <td>1</td>\n      <td>IDS2017</td>\n      <td>1.0</td>\n      <td>None</td>\n      <td>128</td>\n      <td>1</td>\n    </tr>\n    <tr>\n      <th>14</th>\n      <td>MemAE</td>\n      <td>cuda:0</td>\n      <td>1</td>\n      <td>IDS2017</td>\n      <td>1.0</td>\n      <td>None</td>\n      <td>128</td>\n      <td>1</td>\n    </tr>\n    <tr>\n      <th>15</th>\n      <td>DeepSVDD</td>\n      <td>cuda:0</td>\n      <td>1</td>\n      <td>IDS2017</td>\n      <td>1.0</td>\n      <td>None</td>\n      <td>128</td>\n      <td>1</td>\n    </tr>\n  </tbody>\n</table>\n</div>"
     },
     "execution_count": 10,
     "metadata": {},
     "output_type": "execute_result"
    }
   ],
   "source": [
    "# Set the different datasets\n",
    "base_path = \"C:/Users/verdi/Documents/Datasets/IDS2017/CSV\"\n",
    "w_params = [\"15s-5s\", \"30s-2.5s\", \"30s-5s\", \"60s-2.5s\", \"60s-5s\", \"120s-2.5s\", \"120s-5s\", \"180s-5s\"]\n",
    "rel_path_to_dataset = \"processed/feature_group_5.npz\"\n",
    "datasets = [(base_path + \"/\" + w_param + \"/\" + rel_path_to_dataset, w_param) for w_param in w_params]\n",
    "\n",
    "# Set the different models\n",
    "models = [\"MemAE\", \"DeepSVDD\"]\n",
    "\n",
    "# Merge datasets with models\n",
    "settings = [(path, w_param, model) for path, w_param in datasets for model in models]\n",
    "assert len(settings) == len(models) * len(w_params)\n",
    "\n",
    "# path_to_dataset: str, export_path: str, device: str,\n",
    "# neptune_mode: str, neptune_tags: list, dataset: str, pct: float, model: str, epochs: int, n_runs: int,\n",
    "# batch_size: int, model_param=None, seed=None\n",
    "# Given the models and datasets, define the experiments\n",
    "experiments = []\n",
    "for setting in settings:\n",
    "    p, w, m = setting\n",
    "    neptune_tags = [m, w, dataset_name]\n",
    "    experiments.append(\n",
    "        Experiment(p, \"../results/IDS2017\", device, neptune_mode, neptune_tags, dataset_name, normal_ratio, m, n_epochs, n_runs, batch_size)\n",
    "    )\n",
    "\n",
    "# Create the batch trainer\n",
    "trainer = BatchTrainer(experiments)\n",
    "trainer.summary()"
   ],
   "metadata": {
    "collapsed": false,
    "pycharm": {
     "name": "#%%\n"
    }
   }
  },
  {
   "cell_type": "code",
   "execution_count": null,
   "outputs": [
    {
     "name": "stdout",
     "output_type": "stream",
     "text": [
      "['MemAE', '15s-5s', 'IDS2017']\n",
      "offline/19694864-dce0-4bdf-94c9-904a15dea2f9\n",
      "Remember to stop your run once you’ve finished logging your metadata (https://docs.neptune.ai/api-reference/run#stop). It will be stopped automatically only when the notebook kernel/interactive console is terminated.\n",
      "Training MemAE with shape (3541383, 71), anomaly ratio 0.2234\n",
      "Run 1/1\n",
      "Started training\n",
      "\n",
      "Epoch: 1 of 1\n"
     ]
    },
    {
     "name": "stderr",
     "output_type": "stream",
     "text": [
      "  0%|          | 1/10743 [00:44<132:35:52, 44.44s/it, loss=68.356]\n"
     ]
    },
    {
     "name": "stdout",
     "output_type": "stream",
     "text": [
      "Finished training\n",
      "Evaluating model with threshold tau=78\n",
      "{'Precision': 0.4401178275072038, 'Recall': 0.43332297092713207, 'F1-Score': 0.43669396921983644, 'AUROC': 0.8455668724453109, 'AUPR': 0.487899868456791}\n",
      "Shutting down background jobs, please wait a moment...\n",
      "Done!\n",
      "['DeepSVDD', '15s-5s', 'IDS2017']\n",
      "offline/8c2594ee-c45b-48d0-9a17-4dfccda585b1\n",
      "Remember to stop your run once you’ve finished logging your metadata (https://docs.neptune.ai/api-reference/run#stop). It will be stopped automatically only when the notebook kernel/interactive console is terminated.\n",
      "Training DeepSVDD with shape (3541383, 71), anomaly ratio 0.2234\n",
      "Run 1/1\n",
      "Initializing center c...\n",
      "Center c initialized.\n",
      "Started training\n",
      "\n",
      "Epoch: 1 of 1\n"
     ]
    },
    {
     "name": "stderr",
     "output_type": "stream",
     "text": [
      "  0%|          | 1/10743 [00:22<66:46:03, 22.38s/it, loss=7.364]\n"
     ]
    },
    {
     "name": "stdout",
     "output_type": "stream",
     "text": [
      "Finished training\n",
      "Evaluating model with threshold tau=78\n",
      "{'Precision': 0.4836408443021159, 'Recall': 0.476174047985523, 'F1-Score': 0.47987840249817415, 'AUROC': 0.8013822942581786, 'AUPR': 0.5888482301616875}\n",
      "Shutting down background jobs, please wait a moment...\n",
      "Done!\n",
      "['MemAE', '30s-2.5s', 'IDS2017']\n",
      "offline/7b82fe1c-2303-4781-b014-5df99c7b47ec\n",
      "Remember to stop your run once you’ve finished logging your metadata (https://docs.neptune.ai/api-reference/run#stop). It will be stopped automatically only when the notebook kernel/interactive console is terminated.\n",
      "Training MemAE with shape (3209989, 71), anomaly ratio 0.2461\n",
      "Run 1/1\n",
      "Started training\n",
      "\n",
      "Epoch: 1 of 1\n"
     ]
    },
    {
     "name": "stderr",
     "output_type": "stream",
     "text": [
      "  0%|          | 1/9453 [00:38<100:04:04, 38.11s/it, loss=55.816]\n"
     ]
    },
    {
     "name": "stdout",
     "output_type": "stream",
     "text": [
      "Finished training\n",
      "Evaluating model with threshold tau=76\n",
      "{'Precision': 0.5027505192107996, 'Recall': 0.49020213359725917, 'F1-Score': 0.496397036630715, 'AUROC': 0.8455987938078353, 'AUPR': 0.5054560000747522}\n",
      "Shutting down background jobs, please wait a moment...\n",
      "Done!\n",
      "['DeepSVDD', '30s-2.5s', 'IDS2017']\n",
      "offline/49a2ef5a-2428-40c1-9fc4-8a176ee8bc3d\n",
      "Remember to stop your run once you’ve finished logging your metadata (https://docs.neptune.ai/api-reference/run#stop). It will be stopped automatically only when the notebook kernel/interactive console is terminated.\n",
      "Training DeepSVDD with shape (3209989, 71), anomaly ratio 0.2461\n",
      "Run 1/1\n",
      "Initializing center c...\n",
      "Center c initialized.\n",
      "Started training\n",
      "\n",
      "Epoch: 1 of 1\n"
     ]
    },
    {
     "name": "stderr",
     "output_type": "stream",
     "text": [
      "  0%|          | 1/9453 [00:19<51:31:26, 19.62s/it, loss=5.980]\n"
     ]
    },
    {
     "name": "stdout",
     "output_type": "stream",
     "text": [
      "Finished training\n",
      "Evaluating model with threshold tau=76\n",
      "{'Precision': 0.6062671502262467, 'Recall': 0.5911335099307574, 'F1-Score': 0.5986046949764788, 'AUROC': 0.7736302139953839, 'AUPR': 0.6125751841689375}\n",
      "Shutting down background jobs, please wait a moment...\n",
      "Done!\n",
      "['MemAE', '30s-5s', 'IDS2017']\n",
      "offline/cb0b4148-72ab-4546-9051-1b2b46e68556\n",
      "Remember to stop your run once you’ve finished logging your metadata (https://docs.neptune.ai/api-reference/run#stop). It will be stopped automatically only when the notebook kernel/interactive console is terminated.\n",
      "Training MemAE with shape (3209989, 71), anomaly ratio 0.2461\n",
      "Run 1/1\n",
      "Started training\n",
      "\n",
      "Epoch: 1 of 1\n"
     ]
    },
    {
     "name": "stderr",
     "output_type": "stream",
     "text": [
      "  0%|          | 1/9453 [00:38<102:02:19, 38.86s/it, loss=54.718]\n"
     ]
    },
    {
     "name": "stdout",
     "output_type": "stream",
     "text": [
      "Finished training\n",
      "Evaluating model with threshold tau=76\n",
      "{'Precision': 0.5409100231309012, 'Recall': 0.5274078274087134, 'F1-Score': 0.5340735998728627, 'AUROC': 0.8556975159713566, 'AUPR': 0.5235166522880057}\n",
      "Shutting down background jobs, please wait a moment...\n",
      "Done!\n",
      "['DeepSVDD', '30s-5s', 'IDS2017']\n",
      "offline/00f61967-e207-459c-8703-0c93afdf4ea7\n",
      "Remember to stop your run once you’ve finished logging your metadata (https://docs.neptune.ai/api-reference/run#stop). It will be stopped automatically only when the notebook kernel/interactive console is terminated.\n",
      "Training DeepSVDD with shape (3209989, 71), anomaly ratio 0.2461\n",
      "Run 1/1\n",
      "Initializing center c...\n",
      "Center c initialized.\n",
      "Started training\n",
      "\n",
      "Epoch: 1 of 1\n"
     ]
    },
    {
     "name": "stderr",
     "output_type": "stream",
     "text": [
      "  0%|          | 1/9453 [00:19<50:47:37, 19.35s/it, loss=6.133]\n"
     ]
    },
    {
     "name": "stdout",
     "output_type": "stream",
     "text": [
      "Finished training\n",
      "Evaluating model with threshold tau=76\n",
      "{'Precision': 0.5286059932658185, 'Recall': 0.5154109307308627, 'F1-Score': 0.5219250774902453, 'AUROC': 0.7858225929961162, 'AUPR': 0.57369048473847}\n",
      "Shutting down background jobs, please wait a moment...\n",
      "Done!\n",
      "['MemAE', '60s-2.5s', 'IDS2017']\n",
      "offline/390238ea-e004-4b08-9ab3-e4445b8c0f59\n",
      "Remember to stop your run once you’ve finished logging your metadata (https://docs.neptune.ai/api-reference/run#stop). It will be stopped automatically only when the notebook kernel/interactive console is terminated.\n",
      "Training MemAE with shape (2910259, 71), anomaly ratio 0.2707\n",
      "Run 1/1\n",
      "Started training\n",
      "\n",
      "Epoch: 1 of 1\n"
     ]
    },
    {
     "name": "stderr",
     "output_type": "stream",
     "text": [
      "  0%|          | 1/8291 [00:32<73:44:38, 32.02s/it, loss=55.582]\n"
     ]
    },
    {
     "name": "stdout",
     "output_type": "stream",
     "text": [
      "Finished training\n",
      "Evaluating model with threshold tau=73\n",
      "{'Precision': 0.5703870089211855, 'Recall': 0.5689136271031537, 'F1-Score': 0.5696493652987623, 'AUROC': 0.8495552104670355, 'AUPR': 0.5273713146793017}\n",
      "Shutting down background jobs, please wait a moment...\n",
      "Done!\n",
      "['DeepSVDD', '60s-2.5s', 'IDS2017']\n",
      "offline/3712beb9-8cf2-4f24-be0b-63269f2db6e3\n",
      "Remember to stop your run once you’ve finished logging your metadata (https://docs.neptune.ai/api-reference/run#stop). It will be stopped automatically only when the notebook kernel/interactive console is terminated.\n",
      "Training DeepSVDD with shape (2910259, 71), anomaly ratio 0.2707\n",
      "Run 1/1\n",
      "Initializing center c...\n",
      "Center c initialized.\n",
      "Started training\n",
      "\n",
      "Epoch: 1 of 1\n"
     ]
    },
    {
     "name": "stderr",
     "output_type": "stream",
     "text": [
      "  0%|          | 1/8291 [00:16<37:38:03, 16.34s/it, loss=3.822]\n"
     ]
    },
    {
     "name": "stdout",
     "output_type": "stream",
     "text": [
      "Finished training\n",
      "Evaluating model with threshold tau=73\n",
      "{'Precision': 0.5997632895121983, 'Recall': 0.5982140250442686, 'F1-Score': 0.5989876554978313, 'AUROC': 0.816105256519005, 'AUPR': 0.628231192893084}\n",
      "Shutting down background jobs, please wait a moment...\n",
      "Done!\n",
      "['MemAE', '60s-5s', 'IDS2017']\n",
      "offline/ae904049-a926-4697-af3d-da3ae933b45e\n",
      "Remember to stop your run once you’ve finished logging your metadata (https://docs.neptune.ai/api-reference/run#stop). It will be stopped automatically only when the notebook kernel/interactive console is terminated.\n",
      "Training MemAE with shape (2910259, 71), anomaly ratio 0.2707\n",
      "Run 1/1\n",
      "Started training\n",
      "\n",
      "Epoch: 1 of 1\n"
     ]
    },
    {
     "name": "stderr",
     "output_type": "stream",
     "text": [
      "  0%|          | 1/8291 [00:32<74:50:58, 32.50s/it, loss=55.063]\n"
     ]
    },
    {
     "name": "stdout",
     "output_type": "stream",
     "text": [
      "Finished training\n",
      "Evaluating model with threshold tau=73\n",
      "{'Precision': 0.5599032802010754, 'Recall': 0.5584605327460476, 'F1-Score': 0.5591809758639535, 'AUROC': 0.8416078879988674, 'AUPR': 0.512694410441044}\n",
      "Shutting down background jobs, please wait a moment...\n",
      "Done!\n",
      "['DeepSVDD', '60s-5s', 'IDS2017']\n",
      "offline/85b082b9-50a4-438d-b7ed-bd84ec606839\n",
      "Remember to stop your run once you’ve finished logging your metadata (https://docs.neptune.ai/api-reference/run#stop). It will be stopped automatically only when the notebook kernel/interactive console is terminated.\n",
      "Training DeepSVDD with shape (2910259, 71), anomaly ratio 0.2707\n",
      "Run 1/1\n",
      "Initializing center c...\n",
      "Center c initialized.\n",
      "Started training\n",
      "\n",
      "Epoch: 1 of 1\n"
     ]
    },
    {
     "name": "stderr",
     "output_type": "stream",
     "text": [
      "  0%|          | 1/8291 [00:16<39:03:51, 16.96s/it, loss=3.566]\n"
     ]
    },
    {
     "name": "stdout",
     "output_type": "stream",
     "text": [
      "Finished training\n"
     ]
    }
   ],
   "source": [
    "trainer.train()"
   ],
   "metadata": {
    "collapsed": false,
    "pycharm": {
     "name": "#%%\n",
     "is_executing": true
    }
   }
  }
 ],
 "metadata": {
  "kernelspec": {
   "display_name": "Python 3",
   "language": "python",
   "name": "python3"
  },
  "language_info": {
   "codemirror_mode": {
    "name": "ipython",
    "version": 2
   },
   "file_extension": ".py",
   "mimetype": "text/x-python",
   "name": "python",
   "nbconvert_exporter": "python",
   "pygments_lexer": "ipython2",
   "version": "2.7.6"
  }
 },
 "nbformat": 4,
 "nbformat_minor": 0
}